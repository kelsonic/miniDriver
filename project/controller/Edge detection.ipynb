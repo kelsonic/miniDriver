{
 "cells": [
  {
   "cell_type": "code",
   "execution_count": 1,
   "metadata": {
    "collapsed": false
   },
   "outputs": [],
   "source": [
    "import numpy as np\n",
    "import matplotlib.pyplot as plt"
   ]
  },
  {
   "cell_type": "code",
   "execution_count": 2,
   "metadata": {
    "collapsed": true
   },
   "outputs": [],
   "source": [
    "from PIL import Image"
   ]
  },
  {
   "cell_type": "code",
   "execution_count": 3,
   "metadata": {
    "collapsed": false
   },
   "outputs": [],
   "source": [
    "image = Image.open('../../../negative_images/IMG_7341.jpg')"
   ]
  },
  {
   "cell_type": "code",
   "execution_count": 4,
   "metadata": {
    "collapsed": false,
    "scrolled": true
   },
   "outputs": [
    {
     "data": {
      "image/png": "[encoded data removed]",
      "text/plain": [
       "<PIL.PngImagePlugin.PngImageFile image mode=RGBA size=100x100 at 0x747BDD8>"
      ]
     },
     "execution_count": 4,
     "metadata": {},
     "output_type": "execute_result"
    }
   ],
   "source": [
    "image"
   ]
  },
  {
   "cell_type": "code",
   "execution_count": 45,
   "metadata": {
    "collapsed": false
   },
   "outputs": [
    {
     "data": {
      "text/plain": [
       "array([[[  57.,   56.,   53.,  254.],\n",
       "        [  99.,   97.,   89.,  254.],\n",
       "        [  89.,   87.,   77.,  254.],\n",
       "        ..., \n",
       "        [ 228.,  221.,  205.,  254.],\n",
       "        [ 229.,  221.,  205.,  254.],\n",
       "        [ 228.,  220.,  205.,  254.]],\n",
       "\n",
       "       [[  55.,   54.,   51.,  254.],\n",
       "        [ 103.,  100.,   93.,  254.],\n",
       "        [  92.,   89.,   81.,  254.],\n",
       "        ..., \n",
       "        [ 229.,  220.,  206.,  254.],\n",
       "        [ 229.,  220.,  206.,  254.],\n",
       "        [ 228.,  219.,  205.,  254.]],\n",
       "\n",
       "       [[  55.,   53.,   51.,  254.],\n",
       "        [ 105.,  102.,   94.,  254.],\n",
       "        [  94.,   90.,   82.,  254.],\n",
       "        ..., \n",
       "        [ 229.,  221.,  205.,  254.],\n",
       "        [ 228.,  219.,  205.,  254.],\n",
       "        [ 227.,  219.,  204.,  254.]],\n",
       "\n",
       "       ..., \n",
       "       [[ 224.,  215.,  215.,  254.],\n",
       "        [ 224.,  216.,  214.,  254.],\n",
       "        [ 223.,  215.,  213.,  254.],\n",
       "        ..., \n",
       "        [  62.,   92.,   80.,  254.],\n",
       "        [  64.,   94.,   82.,  254.],\n",
       "        [  67.,   95.,   83.,  254.]],\n",
       "\n",
       "       [[ 223.,  214.,  212.,  254.],\n",
       "        [ 223.,  214.,  212.,  254.],\n",
       "        [ 223.,  215.,  213.,  254.],\n",
       "        ..., \n",
       "        [  63.,   93.,   80.,  254.],\n",
       "        [  63.,   93.,   81.,  254.],\n",
       "        [  64.,   92.,   82.,  254.]],\n",
       "\n",
       "       [[ 222.,  212.,  211.,  254.],\n",
       "        [ 222.,  213.,  212.,  254.],\n",
       "        [ 223.,  214.,  212.,  254.],\n",
       "        ..., \n",
       "        [  60.,   91.,   78.,  254.],\n",
       "        [  62.,   93.,   79.,  254.],\n",
       "        [  60.,   90.,   77.,  254.]]])"
      ]
     },
     "execution_count": 45,
     "metadata": {},
     "output_type": "execute_result"
    }
   ],
   "source": [
    "image_array = np.array(image, np.float)\n",
    "image_array"
   ]
  },
  {
   "cell_type": "code",
   "execution_count": 46,
   "metadata": {
    "collapsed": false
   },
   "outputs": [],
   "source": [
    "transposed = image_array.T"
   ]
  },
  {
   "cell_type": "code",
   "execution_count": 47,
   "metadata": {
    "collapsed": false
   },
   "outputs": [
    {
     "data": {
      "text/plain": [
       "array([ 187.,  190.,  192.,  196.,  200.,  204.,  208.,  211.,  214.,\n",
       "        216.,  217.,  217.,  218.,  218.,  219.,  218.,  217.,  218.,\n",
       "        219.,  219.,  219.,  220.,  222.,  223.,  222.,  222.,  223.,\n",
       "        223.,  229.,  134.,    0.,   65.,   57.,   58.,   55.,   53.,\n",
       "         56.,   58.,   59.,   59.,   57.,   58.,   57.,   58.,   57.,\n",
       "         58.,   58.,   59.,   57.,   56.,   58.,   59.,   58.,   59.,\n",
       "         60.,   57.,   60.,   60.,   61.,   61.,   60.,   62.,   64.,\n",
       "         66.,   67.,   67.,   67.,   65.,   67.,   66.,   66.,   67.,\n",
       "         68.,   69.,   70.,   71.,   71.,   69.,   72.,   76.,   45.,\n",
       "        200.,  244.,  235.,  238.,  238.,  237.,  238.,  238.,  239.,\n",
       "        239.,  240.,  240.,  241.,  240.,  241.,  240.,  241.,  241.,  241.])"
      ]
     },
     "execution_count": 47,
     "metadata": {},
     "output_type": "execute_result"
    }
   ],
   "source": [
    "row = image_array[:,:,0][70]\n",
    "row"
   ]
  },
  {
   "cell_type": "code",
   "execution_count": 48,
   "metadata": {
    "collapsed": false
   },
   "outputs": [
    {
     "data": {
      "text/plain": [
       "[<matplotlib.lines.Line2D at 0xa402f98>]"
      ]
     },
     "execution_count": 48,
     "metadata": {},
     "output_type": "execute_result"
    }
   ],
   "source": [
    "plt.plot(row)"
   ]
  },
  {
   "cell_type": "code",
   "execution_count": 49,
   "metadata": {
    "collapsed": false
   },
   "outputs": [],
   "source": [
    "plt.show()"
   ]
  },
  {
   "cell_type": "code",
   "execution_count": 59,
   "metadata": {
    "collapsed": false
   },
   "outputs": [],
   "source": [
    "gradient2 = np.gradient(row)\n",
    "grad = np.absolute(gradient2)"
   ]
  },
  {
   "cell_type": "code",
   "execution_count": 62,
   "metadata": {
    "collapsed": false
   },
   "outputs": [
    {
     "data": {
      "text/plain": [
       "[<matplotlib.lines.Line2D at 0xaaa8f60>]"
      ]
     },
     "execution_count": 62,
     "metadata": {},
     "output_type": "execute_result"
    }
   ],
   "source": [
    "plt.plot(grad)"
   ]
  },
  {
   "cell_type": "code",
   "execution_count": null,
   "metadata": {
    "collapsed": false,
    "scrolled": true
   },
   "outputs": [],
   "source": [
    "plt.show()"
   ]
  },
  {
   "cell_type": "code",
   "execution_count": null,
   "metadata": {
    "collapsed": true
   },
   "outputs": [],
   "source": []
  },
  {
   "cell_type": "code",
   "execution_count": null,
   "metadata": {
    "collapsed": true
   },
   "outputs": [],
   "source": []
  },
  {
   "cell_type": "code",
   "execution_count": null,
   "metadata": {
    "collapsed": true
   },
   "outputs": [],
   "source": []
  }
 ],
 "metadata": {
  "kernelspec": {
   "display_name": "Python 2",
   "language": "python",
   "name": "python2"
  },
  "language_info": {
   "codemirror_mode": {
    "name": "ipython",
    "version": 2
   },
   "file_extension": ".py",
   "mimetype": "text/x-python",
   "name": "python",
   "nbconvert_exporter": "python",
   "pygments_lexer": "ipython2",
   "version": "2.7.11"
  }
 },
 "nbformat": 4,
 "nbformat_minor": 0
}
